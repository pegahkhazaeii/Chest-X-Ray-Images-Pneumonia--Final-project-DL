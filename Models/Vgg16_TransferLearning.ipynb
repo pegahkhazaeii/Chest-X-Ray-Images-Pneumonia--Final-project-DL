{
  "nbformat": 4,
  "nbformat_minor": 0,
  "metadata": {
    "colab": {
      "name": "Vgg16-TransferLearning.ipynb",
      "provenance": []
    },
    "kernelspec": {
      "name": "python3",
      "display_name": "Python 3"
    },
    "accelerator": "GPU"
  },
  "cells": [
    {
      "cell_type": "code",
      "metadata": {
        "colab": {
          "base_uri": "https://localhost:8080/"
        },
        "id": "MTUY7Av_qNOa",
        "outputId": "ce52fa29-43ec-4715-c1eb-2a5cfa6c8350"
      },
      "source": [
        "from google.colab import drive\r\n",
        "drive.mount('/content/drive')"
      ],
      "execution_count": 1,
      "outputs": [
        {
          "output_type": "stream",
          "text": [
            "Mounted at /content/drive\n"
          ],
          "name": "stdout"
        }
      ]
    },
    {
      "cell_type": "code",
      "metadata": {
        "id": "_ks8uCrPqegV"
      },
      "source": [
        "EPOCHS = 30\r\n",
        "data_dir =  '/content/drive/My Drive/Final Project/chest_xray/chest_xray'\r\n",
        "TEST = 'test'\r\n",
        "TRAIN = 'train'\r\n",
        "VAL ='val'"
      ],
      "execution_count": 2,
      "outputs": []
    },
    {
      "cell_type": "code",
      "metadata": {
        "id": "GluZjYagq9mk"
      },
      "source": [
        "import copy\r\n",
        "import matplotlib.pyplot as plt\r\n",
        "import numpy as np\r\n",
        "import pandas as pd \r\n",
        "import os\r\n",
        "import seaborn as sns\r\n",
        "import skimage\r\n",
        "from skimage import io, transform\r\n",
        "from sklearn.metrics import confusion_matrix\r\n",
        "import torch\r\n",
        "import torch.nn as nn\r\n",
        "import torch.optim as optim\r\n",
        "import torchvision\r\n",
        "from torchvision import datasets, models, transforms"
      ],
      "execution_count": 3,
      "outputs": []
    },
    {
      "cell_type": "code",
      "metadata": {
        "colab": {
          "base_uri": "https://localhost:8080/"
        },
        "id": "s2HFbZ6Xq1Gs",
        "outputId": "ebcfef3b-e89d-4b4f-c793-e1b39f335cc6"
      },
      "source": [
        "def data_transforms(phase):\r\n",
        "    if phase == TRAIN:\r\n",
        "        transform = transforms.Compose([\r\n",
        "            transforms.Resize(256),\r\n",
        "            transforms.CenterCrop(224),\r\n",
        "            transforms.ToTensor(),\r\n",
        "            transforms.Normalize([0.485, 0.456, 0.406], [0.229, 0.224, 0.225]),\r\n",
        "        ])\r\n",
        "        \r\n",
        "    if phase == VAL:\r\n",
        "        transform = transforms.Compose([\r\n",
        "            transforms.Resize(256),\r\n",
        "            transforms.CenterCrop(224),\r\n",
        "            transforms.ToTensor(),\r\n",
        "            transforms.Normalize([0.485, 0.456, 0.406], [0.229, 0.224, 0.225]),\r\n",
        "        ])\r\n",
        "    \r\n",
        "    if phase == TEST:\r\n",
        "        transform = transforms.Compose([\r\n",
        "            transforms.Resize(256),\r\n",
        "            transforms.CenterCrop(224),\r\n",
        "            transforms.ToTensor(),\r\n",
        "            transforms.Normalize([0.485, 0.456, 0.406], [0.229, 0.224, 0.225]),\r\n",
        "        ])        \r\n",
        "        \r\n",
        "    return transform\r\n",
        "\r\n",
        "device = torch.device(\"cuda:0\" if torch.cuda.is_available() else \"cpu\")\r\n",
        "print(device)"
      ],
      "execution_count": 4,
      "outputs": [
        {
          "output_type": "stream",
          "text": [
            "cuda:0\n"
          ],
          "name": "stdout"
        }
      ]
    },
    {
      "cell_type": "code",
      "metadata": {
        "id": "mXjSx6F0q6JC"
      },
      "source": [
        "image_datasets = {x: datasets.ImageFolder(os.path.join(data_dir, x), data_transforms(x)) \r\n",
        "                  for x in [TRAIN, VAL, TEST]}\r\n",
        "\r\n",
        "dataloaders = {TRAIN: torch.utils.data.DataLoader(image_datasets[TRAIN], batch_size = 4, shuffle=True), \r\n",
        "               VAL: torch.utils.data.DataLoader(image_datasets[VAL], batch_size = 1, shuffle=True), \r\n",
        "               TEST: torch.utils.data.DataLoader(image_datasets[TEST], batch_size = 1, shuffle=True)}"
      ],
      "execution_count": 5,
      "outputs": []
    },
    {
      "cell_type": "code",
      "metadata": {
        "id": "ZrbBXJYCrEcy"
      },
      "source": [
        "dataset_sizes = {x: len(image_datasets[x]) for x in [TRAIN, VAL]}\r\n",
        "classes = image_datasets[TRAIN].classes\r\n",
        "class_names = image_datasets[TRAIN].classes"
      ],
      "execution_count": 6,
      "outputs": []
    },
    {
      "cell_type": "code",
      "metadata": {
        "id": "LDXRCgtOrMpY"
      },
      "source": [
        "inputs, classes = next(iter(dataloaders[TRAIN]))"
      ],
      "execution_count": 7,
      "outputs": []
    },
    {
      "cell_type": "code",
      "metadata": {
        "id": "Pves6PuWrR0v"
      },
      "source": [
        "def train_model(model, criterion, optimizer, scheduler, num_epochs):\r\n",
        "    best_model_wts = copy.deepcopy(model.state_dict())\r\n",
        "    best_acc = 0.0\r\n",
        "    \r\n",
        "    for epoch in range(num_epochs):\r\n",
        "        print(\"Epoch: {}/{}\".format(epoch+1, num_epochs))\r\n",
        "        print(\"=\"*10)\r\n",
        "        \r\n",
        "        for phase in [TRAIN, VAL]:\r\n",
        "            if phase == TRAIN:\r\n",
        "                scheduler.step()\r\n",
        "                model.train()\r\n",
        "            else:\r\n",
        "                model.eval()\r\n",
        "            running_loss = 0.0\r\n",
        "            running_corrects = 0\r\n",
        "            for data in dataloaders[phase]:\r\n",
        "                inputs, labels = data\r\n",
        "                inputs = inputs.to(device)\r\n",
        "                labels = labels.to(device)\r\n",
        "                optimizer.zero_grad()\r\n",
        "                with torch.set_grad_enabled(phase==TRAIN):\r\n",
        "                    outputs = model(inputs)\r\n",
        "                    _, preds = torch.max(outputs, 1)\r\n",
        "                    loss = criterion(outputs, labels)\r\n",
        "                    if phase == 'train':\r\n",
        "                        loss.backward()\r\n",
        "                        optimizer.step()\r\n",
        "                running_loss += loss.item() * inputs.size(0)\r\n",
        "                running_corrects += torch.sum(preds == labels.data)\r\n",
        "\r\n",
        "            epoch_loss = running_loss / dataset_sizes[phase]\r\n",
        "            epoch_acc = running_corrects.double() / dataset_sizes[phase]\r\n",
        "\r\n",
        "            print('{} Loss: {:.4f} Acc: {:.4f}'.format(\r\n",
        "                phase, epoch_loss, epoch_acc))\r\n",
        "\r\n",
        "            if phase == 'val' and epoch_acc > best_acc:\r\n",
        "                best_acc = epoch_acc\r\n",
        "                best_model_wts = copy.deepcopy(model.state_dict())\r\n",
        "\r\n",
        "    print('Best val Acc: {:4f}'.format(best_acc))\r\n",
        "    model.load_state_dict(best_model_wts)\r\n",
        "    return model"
      ],
      "execution_count": 8,
      "outputs": []
    },
    {
      "cell_type": "code",
      "metadata": {
        "id": "xuy7N8LkrUu7"
      },
      "source": [
        "model_pre = models.vgg16()"
      ],
      "execution_count": 9,
      "outputs": []
    },
    {
      "cell_type": "code",
      "metadata": {
        "colab": {
          "base_uri": "https://localhost:8080/"
        },
        "id": "5luJ312MrXzD",
        "outputId": "298e71ec-84c9-4669-b3f4-3f29508f65e0"
      },
      "source": [
        "for param in model_pre.features.parameters():\r\n",
        "    param.required_grad = False\r\n",
        "\r\n",
        "num_features = model_pre.classifier[6].in_features\r\n",
        "features = list(model_pre.classifier.children())[:-1] \r\n",
        "features.extend([nn.Linear(num_features, len(class_names))])\r\n",
        "model_pre.classifier = nn.Sequential(*features) \r\n",
        "print(model_pre)"
      ],
      "execution_count": 10,
      "outputs": [
        {
          "output_type": "stream",
          "text": [
            "VGG(\n",
            "  (features): Sequential(\n",
            "    (0): Conv2d(3, 64, kernel_size=(3, 3), stride=(1, 1), padding=(1, 1))\n",
            "    (1): ReLU(inplace=True)\n",
            "    (2): Conv2d(64, 64, kernel_size=(3, 3), stride=(1, 1), padding=(1, 1))\n",
            "    (3): ReLU(inplace=True)\n",
            "    (4): MaxPool2d(kernel_size=2, stride=2, padding=0, dilation=1, ceil_mode=False)\n",
            "    (5): Conv2d(64, 128, kernel_size=(3, 3), stride=(1, 1), padding=(1, 1))\n",
            "    (6): ReLU(inplace=True)\n",
            "    (7): Conv2d(128, 128, kernel_size=(3, 3), stride=(1, 1), padding=(1, 1))\n",
            "    (8): ReLU(inplace=True)\n",
            "    (9): MaxPool2d(kernel_size=2, stride=2, padding=0, dilation=1, ceil_mode=False)\n",
            "    (10): Conv2d(128, 256, kernel_size=(3, 3), stride=(1, 1), padding=(1, 1))\n",
            "    (11): ReLU(inplace=True)\n",
            "    (12): Conv2d(256, 256, kernel_size=(3, 3), stride=(1, 1), padding=(1, 1))\n",
            "    (13): ReLU(inplace=True)\n",
            "    (14): Conv2d(256, 256, kernel_size=(3, 3), stride=(1, 1), padding=(1, 1))\n",
            "    (15): ReLU(inplace=True)\n",
            "    (16): MaxPool2d(kernel_size=2, stride=2, padding=0, dilation=1, ceil_mode=False)\n",
            "    (17): Conv2d(256, 512, kernel_size=(3, 3), stride=(1, 1), padding=(1, 1))\n",
            "    (18): ReLU(inplace=True)\n",
            "    (19): Conv2d(512, 512, kernel_size=(3, 3), stride=(1, 1), padding=(1, 1))\n",
            "    (20): ReLU(inplace=True)\n",
            "    (21): Conv2d(512, 512, kernel_size=(3, 3), stride=(1, 1), padding=(1, 1))\n",
            "    (22): ReLU(inplace=True)\n",
            "    (23): MaxPool2d(kernel_size=2, stride=2, padding=0, dilation=1, ceil_mode=False)\n",
            "    (24): Conv2d(512, 512, kernel_size=(3, 3), stride=(1, 1), padding=(1, 1))\n",
            "    (25): ReLU(inplace=True)\n",
            "    (26): Conv2d(512, 512, kernel_size=(3, 3), stride=(1, 1), padding=(1, 1))\n",
            "    (27): ReLU(inplace=True)\n",
            "    (28): Conv2d(512, 512, kernel_size=(3, 3), stride=(1, 1), padding=(1, 1))\n",
            "    (29): ReLU(inplace=True)\n",
            "    (30): MaxPool2d(kernel_size=2, stride=2, padding=0, dilation=1, ceil_mode=False)\n",
            "  )\n",
            "  (avgpool): AdaptiveAvgPool2d(output_size=(7, 7))\n",
            "  (classifier): Sequential(\n",
            "    (0): Linear(in_features=25088, out_features=4096, bias=True)\n",
            "    (1): ReLU(inplace=True)\n",
            "    (2): Dropout(p=0.5, inplace=False)\n",
            "    (3): Linear(in_features=4096, out_features=4096, bias=True)\n",
            "    (4): ReLU(inplace=True)\n",
            "    (5): Dropout(p=0.5, inplace=False)\n",
            "    (6): Linear(in_features=4096, out_features=2, bias=True)\n",
            "  )\n",
            ")\n"
          ],
          "name": "stdout"
        }
      ]
    },
    {
      "cell_type": "code",
      "metadata": {
        "id": "Upf4KNP6raVH"
      },
      "source": [
        "model_pre = model_pre.to(device)\r\n",
        "criterion = nn.CrossEntropyLoss()\r\n",
        "optimizer = optim.SGD(model_pre.parameters(), lr=0.001, momentum=0.9, weight_decay=0.01)\r\n",
        "# Decay LR by a factor of 0.1 every 10 epochs\r\n",
        "exp_lr_scheduler = optim.lr_scheduler.StepLR(optimizer, step_size=10, gamma=0.1)"
      ],
      "execution_count": 11,
      "outputs": []
    },
    {
      "cell_type": "code",
      "metadata": {
        "colab": {
          "base_uri": "https://localhost:8080/"
        },
        "id": "szfRGfMVrc8A",
        "outputId": "b9547dd9-e27b-40cc-cc18-b6d566247c05"
      },
      "source": [
        "model_pre = train_model(model_pre, criterion, optimizer, exp_lr_scheduler, num_epochs=EPOCHS)"
      ],
      "execution_count": 12,
      "outputs": [
        {
          "output_type": "stream",
          "text": [
            "Epoch: 1/30\n",
            "==========\n"
          ],
          "name": "stdout"
        },
        {
          "output_type": "stream",
          "text": [
            "/usr/local/lib/python3.6/dist-packages/torch/optim/lr_scheduler.py:136: UserWarning: Detected call of `lr_scheduler.step()` before `optimizer.step()`. In PyTorch 1.1.0 and later, you should call them in the opposite order: `optimizer.step()` before `lr_scheduler.step()`.  Failure to do this will result in PyTorch skipping the first value of the learning rate schedule. See more details at https://pytorch.org/docs/stable/optim.html#how-to-adjust-learning-rate\n",
            "  \"https://pytorch.org/docs/stable/optim.html#how-to-adjust-learning-rate\", UserWarning)\n"
          ],
          "name": "stderr"
        },
        {
          "output_type": "stream",
          "text": [
            "train Loss: 0.2835 Acc: 0.8859\n",
            "val Loss: 0.8969 Acc: 0.5000\n",
            "Epoch: 2/30\n",
            "==========\n",
            "train Loss: 0.1398 Acc: 0.9493\n",
            "val Loss: 1.3703 Acc: 0.5625\n",
            "Epoch: 3/30\n",
            "==========\n",
            "train Loss: 0.1153 Acc: 0.9596\n",
            "val Loss: 0.8176 Acc: 0.7500\n",
            "Epoch: 4/30\n",
            "==========\n",
            "train Loss: 0.1122 Acc: 0.9604\n",
            "val Loss: 0.4598 Acc: 0.8125\n",
            "Epoch: 5/30\n",
            "==========\n",
            "train Loss: 0.1026 Acc: 0.9615\n",
            "val Loss: 0.4827 Acc: 0.8125\n",
            "Epoch: 6/30\n",
            "==========\n",
            "train Loss: 0.0955 Acc: 0.9657\n",
            "val Loss: 0.4274 Acc: 0.8750\n",
            "Epoch: 7/30\n",
            "==========\n",
            "train Loss: 0.0953 Acc: 0.9665\n",
            "val Loss: 0.5957 Acc: 0.6875\n",
            "Epoch: 8/30\n",
            "==========\n",
            "train Loss: 0.0940 Acc: 0.9671\n",
            "val Loss: 0.6810 Acc: 0.7500\n",
            "Epoch: 9/30\n",
            "==========\n",
            "train Loss: 0.0917 Acc: 0.9686\n",
            "val Loss: 0.5964 Acc: 0.7500\n",
            "Epoch: 10/30\n",
            "==========\n",
            "train Loss: 0.0644 Acc: 0.9753\n",
            "val Loss: 0.5722 Acc: 0.7500\n",
            "Epoch: 11/30\n",
            "==========\n",
            "train Loss: 0.0641 Acc: 0.9768\n",
            "val Loss: 0.5404 Acc: 0.7500\n",
            "Epoch: 12/30\n",
            "==========\n",
            "train Loss: 0.0626 Acc: 0.9784\n",
            "val Loss: 0.8173 Acc: 0.6250\n",
            "Epoch: 13/30\n",
            "==========\n",
            "train Loss: 0.0613 Acc: 0.9776\n",
            "val Loss: 0.4810 Acc: 0.7500\n",
            "Epoch: 14/30\n",
            "==========\n",
            "train Loss: 0.0592 Acc: 0.9795\n",
            "val Loss: 0.5615 Acc: 0.6875\n",
            "Epoch: 15/30\n",
            "==========\n",
            "train Loss: 0.0582 Acc: 0.9789\n",
            "val Loss: 0.5564 Acc: 0.7500\n",
            "Epoch: 16/30\n",
            "==========\n",
            "train Loss: 0.0592 Acc: 0.9797\n",
            "val Loss: 0.6525 Acc: 0.6250\n",
            "Epoch: 17/30\n",
            "==========\n",
            "train Loss: 0.0586 Acc: 0.9791\n",
            "val Loss: 0.5563 Acc: 0.7500\n",
            "Epoch: 18/30\n",
            "==========\n",
            "train Loss: 0.0545 Acc: 0.9791\n",
            "val Loss: 0.6391 Acc: 0.6250\n",
            "Epoch: 19/30\n",
            "==========\n",
            "train Loss: 0.0561 Acc: 0.9812\n",
            "val Loss: 0.6087 Acc: 0.7500\n",
            "Epoch: 20/30\n",
            "==========\n",
            "train Loss: 0.0535 Acc: 0.9812\n",
            "val Loss: 0.6175 Acc: 0.6875\n",
            "Epoch: 21/30\n",
            "==========\n",
            "train Loss: 0.0527 Acc: 0.9816\n",
            "val Loss: 0.6321 Acc: 0.6250\n",
            "Epoch: 22/30\n",
            "==========\n",
            "train Loss: 0.0505 Acc: 0.9828\n",
            "val Loss: 0.6580 Acc: 0.6250\n",
            "Epoch: 23/30\n",
            "==========\n",
            "train Loss: 0.0515 Acc: 0.9824\n",
            "val Loss: 0.5963 Acc: 0.6875\n",
            "Epoch: 24/30\n",
            "==========\n",
            "train Loss: 0.0518 Acc: 0.9824\n",
            "val Loss: 0.6056 Acc: 0.6875\n",
            "Epoch: 25/30\n",
            "==========\n",
            "train Loss: 0.0500 Acc: 0.9832\n",
            "val Loss: 0.6647 Acc: 0.6250\n",
            "Epoch: 26/30\n",
            "==========\n",
            "train Loss: 0.0501 Acc: 0.9822\n",
            "val Loss: 0.5512 Acc: 0.6875\n",
            "Epoch: 27/30\n",
            "==========\n",
            "train Loss: 0.0509 Acc: 0.9832\n",
            "val Loss: 0.5830 Acc: 0.6875\n",
            "Epoch: 28/30\n",
            "==========\n",
            "train Loss: 0.0501 Acc: 0.9835\n",
            "val Loss: 0.5696 Acc: 0.6875\n",
            "Epoch: 29/30\n",
            "==========\n",
            "train Loss: 0.0510 Acc: 0.9828\n",
            "val Loss: 0.5513 Acc: 0.6875\n",
            "Epoch: 30/30\n",
            "==========\n",
            "train Loss: 0.0477 Acc: 0.9851\n",
            "val Loss: 0.5704 Acc: 0.6875\n",
            "Best val Acc: 0.875000\n"
          ],
          "name": "stdout"
        }
      ]
    },
    {
      "cell_type": "code",
      "metadata": {
        "id": "nQl0h9U-reyc"
      },
      "source": [
        "def test_model():\r\n",
        "    running_correct = 0.0\r\n",
        "    running_total = 0.0\r\n",
        "    true_labels = []\r\n",
        "    pred_labels = []\r\n",
        "    with torch.no_grad():\r\n",
        "        for data in dataloaders[TEST]:\r\n",
        "            inputs, labels = data\r\n",
        "            inputs = inputs.to(device)\r\n",
        "            labels = labels.to(device)\r\n",
        "            true_labels.append(labels.item())\r\n",
        "            outputs = model_pre(inputs)\r\n",
        "            _, preds = torch.max(outputs.data, 1)\r\n",
        "            pred_labels.append(preds.item())\r\n",
        "            running_total += labels.size(0)\r\n",
        "            running_correct += (preds == labels).sum().item()\r\n",
        "        acc = running_correct/running_total\r\n",
        "    return (true_labels, pred_labels, running_correct, running_total, acc)"
      ],
      "execution_count": 13,
      "outputs": []
    },
    {
      "cell_type": "code",
      "metadata": {
        "id": "qGiN0LFXrkVu"
      },
      "source": [
        "true_labels, pred_labels, running_correct, running_total, acc = test_model()"
      ],
      "execution_count": 14,
      "outputs": []
    },
    {
      "cell_type": "code",
      "metadata": {
        "colab": {
          "base_uri": "https://localhost:8080/"
        },
        "id": "ZqcUBLRdrpay",
        "outputId": "e3fdbfdd-01ff-4f79-f7e0-2bebe815d79e"
      },
      "source": [
        "print(\"Total Correct: {}, Total Test Images: {}\".format(running_correct, running_total))\r\n",
        "print(\"Test Accuracy: \", acc)"
      ],
      "execution_count": 15,
      "outputs": [
        {
          "output_type": "stream",
          "text": [
            "Total Correct: 507.0, Total Test Images: 624.0\n",
            "Test Accuracy:  0.8125\n"
          ],
          "name": "stdout"
        }
      ]
    },
    {
      "cell_type": "code",
      "metadata": {
        "colab": {
          "base_uri": "https://localhost:8080/",
          "height": 265
        },
        "id": "P1Aa_cQqscNn",
        "outputId": "5eb24430-d019-4a66-812a-0fbd8ad33cc5"
      },
      "source": [
        "cm = confusion_matrix(true_labels, pred_labels)\r\n",
        "tn, fp, fn, tp = cm.ravel()\r\n",
        "ax = sns.heatmap(cm, annot=True, fmt=\"d\")"
      ],
      "execution_count": 16,
      "outputs": [
        {
          "output_type": "display_data",
          "data": {
            "image/png": "[encoded data removed]",
            "text/plain": [
              "<Figure size 432x288 with 2 Axes>"
            ]
          },
          "metadata": {
            "tags": [],
            "needs_background": "light"
          }
        }
      ]
    },
    {
      "cell_type": "code",
      "metadata": {
        "id": "RGpkY03rsqKW"
      },
      "source": [
        ""
      ],
      "execution_count": null,
      "outputs": []
    }
  ]
}