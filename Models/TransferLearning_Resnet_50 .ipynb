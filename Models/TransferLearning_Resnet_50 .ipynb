{
  "nbformat": 4,
  "nbformat_minor": 0,
  "metadata": {
    "accelerator": "GPU",
    "colab": {
      "name": "TransferLearning-Resnet-50.ipynb",
      "provenance": [],
      "collapsed_sections": []
    },
    "kernelspec": {
      "display_name": "Python 3",
      "name": "python3"
    },
    "widgets": {
      "application/vnd.jupyter.widget-state+json": {
        "b9eefba97bbb4bbfb43daf03dd441645": {
          "model_module": "@jupyter-widgets/controls",
          "model_name": "HBoxModel",
          "state": {
            "_view_name": "HBoxView",
            "_dom_classes": [],
            "_model_name": "HBoxModel",
            "_view_module": "@jupyter-widgets/controls",
            "_model_module_version": "1.5.0",
            "_view_count": null,
            "_view_module_version": "1.5.0",
            "box_style": "",
            "layout": "IPY_MODEL_e36770c99db2497189a5e1346c7f5bca",
            "_model_module": "@jupyter-widgets/controls",
            "children": [
              "IPY_MODEL_edee9d21df4a4f05aee6c3b83fe1c142",
              "IPY_MODEL_31db0fe5d71d4100b190a001325e6a1d"
            ]
          }
        },
        "e36770c99db2497189a5e1346c7f5bca": {
          "model_module": "@jupyter-widgets/base",
          "model_name": "LayoutModel",
          "state": {
            "_view_name": "LayoutView",
            "grid_template_rows": null,
            "right": null,
            "justify_content": null,
            "_view_module": "@jupyter-widgets/base",
            "overflow": null,
            "_model_module_version": "1.2.0",
            "_view_count": null,
            "flex_flow": null,
            "width": null,
            "min_width": null,
            "border": null,
            "align_items": null,
            "bottom": null,
            "_model_module": "@jupyter-widgets/base",
            "top": null,
            "grid_column": null,
            "overflow_y": null,
            "overflow_x": null,
            "grid_auto_flow": null,
            "grid_area": null,
            "grid_template_columns": null,
            "flex": null,
            "_model_name": "LayoutModel",
            "justify_items": null,
            "grid_row": null,
            "max_height": null,
            "align_content": null,
            "visibility": null,
            "align_self": null,
            "height": null,
            "min_height": null,
            "padding": null,
            "grid_auto_rows": null,
            "grid_gap": null,
            "max_width": null,
            "order": null,
            "_view_module_version": "1.2.0",
            "grid_template_areas": null,
            "object_position": null,
            "object_fit": null,
            "grid_auto_columns": null,
            "margin": null,
            "display": null,
            "left": null
          }
        },
        "edee9d21df4a4f05aee6c3b83fe1c142": {
          "model_module": "@jupyter-widgets/controls",
          "model_name": "FloatProgressModel",
          "state": {
            "_view_name": "ProgressView",
            "style": "IPY_MODEL_bfe55bc9e5ed422d972b0918f0c9491e",
            "_dom_classes": [],
            "description": "100%",
            "_model_name": "FloatProgressModel",
            "bar_style": "success",
            "max": 102502400,
            "_view_module": "@jupyter-widgets/controls",
            "_model_module_version": "1.5.0",
            "value": 102502400,
            "_view_count": null,
            "_view_module_version": "1.5.0",
            "orientation": "horizontal",
            "min": 0,
            "description_tooltip": null,
            "_model_module": "@jupyter-widgets/controls",
            "layout": "IPY_MODEL_79b73a41f64f4f3a936e7ee054b4d99b"
          }
        },
        "31db0fe5d71d4100b190a001325e6a1d": {
          "model_module": "@jupyter-widgets/controls",
          "model_name": "HTMLModel",
          "state": {
            "_view_name": "HTMLView",
            "style": "IPY_MODEL_ae6472d2a9db4dd7b24fd497f09958d2",
            "_dom_classes": [],
            "description": "",
            "_model_name": "HTMLModel",
            "placeholder": "​",
            "_view_module": "@jupyter-widgets/controls",
            "_model_module_version": "1.5.0",
            "value": " 97.8M/97.8M [3:16:49&lt;00:00, 8.68kB/s]",
            "_view_count": null,
            "_view_module_version": "1.5.0",
            "description_tooltip": null,
            "_model_module": "@jupyter-widgets/controls",
            "layout": "IPY_MODEL_48fe8993f3544a18aadf17f3bb035ef5"
          }
        },
        "bfe55bc9e5ed422d972b0918f0c9491e": {
          "model_module": "@jupyter-widgets/controls",
          "model_name": "ProgressStyleModel",
          "state": {
            "_view_name": "StyleView",
            "_model_name": "ProgressStyleModel",
            "description_width": "initial",
            "_view_module": "@jupyter-widgets/base",
            "_model_module_version": "1.5.0",
            "_view_count": null,
            "_view_module_version": "1.2.0",
            "bar_color": null,
            "_model_module": "@jupyter-widgets/controls"
          }
        },
        "79b73a41f64f4f3a936e7ee054b4d99b": {
          "model_module": "@jupyter-widgets/base",
          "model_name": "LayoutModel",
          "state": {
            "_view_name": "LayoutView",
            "grid_template_rows": null,
            "right": null,
            "justify_content": null,
            "_view_module": "@jupyter-widgets/base",
            "overflow": null,
            "_model_module_version": "1.2.0",
            "_view_count": null,
            "flex_flow": null,
            "width": null,
            "min_width": null,
            "border": null,
            "align_items": null,
            "bottom": null,
            "_model_module": "@jupyter-widgets/base",
            "top": null,
            "grid_column": null,
            "overflow_y": null,
            "overflow_x": null,
            "grid_auto_flow": null,
            "grid_area": null,
            "grid_template_columns": null,
            "flex": null,
            "_model_name": "LayoutModel",
            "justify_items": null,
            "grid_row": null,
            "max_height": null,
            "align_content": null,
            "visibility": null,
            "align_self": null,
            "height": null,
            "min_height": null,
            "padding": null,
            "grid_auto_rows": null,
            "grid_gap": null,
            "max_width": null,
            "order": null,
            "_view_module_version": "1.2.0",
            "grid_template_areas": null,
            "object_position": null,
            "object_fit": null,
            "grid_auto_columns": null,
            "margin": null,
            "display": null,
            "left": null
          }
        },
        "ae6472d2a9db4dd7b24fd497f09958d2": {
          "model_module": "@jupyter-widgets/controls",
          "model_name": "DescriptionStyleModel",
          "state": {
            "_view_name": "StyleView",
            "_model_name": "DescriptionStyleModel",
            "description_width": "",
            "_view_module": "@jupyter-widgets/base",
            "_model_module_version": "1.5.0",
            "_view_count": null,
            "_view_module_version": "1.2.0",
            "_model_module": "@jupyter-widgets/controls"
          }
        },
        "48fe8993f3544a18aadf17f3bb035ef5": {
          "model_module": "@jupyter-widgets/base",
          "model_name": "LayoutModel",
          "state": {
            "_view_name": "LayoutView",
            "grid_template_rows": null,
            "right": null,
            "justify_content": null,
            "_view_module": "@jupyter-widgets/base",
            "overflow": null,
            "_model_module_version": "1.2.0",
            "_view_count": null,
            "flex_flow": null,
            "width": null,
            "min_width": null,
            "border": null,
            "align_items": null,
            "bottom": null,
            "_model_module": "@jupyter-widgets/base",
            "top": null,
            "grid_column": null,
            "overflow_y": null,
            "overflow_x": null,
            "grid_auto_flow": null,
            "grid_area": null,
            "grid_template_columns": null,
            "flex": null,
            "_model_name": "LayoutModel",
            "justify_items": null,
            "grid_row": null,
            "max_height": null,
            "align_content": null,
            "visibility": null,
            "align_self": null,
            "height": null,
            "min_height": null,
            "padding": null,
            "grid_auto_rows": null,
            "grid_gap": null,
            "max_width": null,
            "order": null,
            "_view_module_version": "1.2.0",
            "grid_template_areas": null,
            "object_position": null,
            "object_fit": null,
            "grid_auto_columns": null,
            "margin": null,
            "display": null,
            "left": null
          }
        }
      }
    }
  },
  "cells": [
    {
      "cell_type": "code",
      "metadata": {
        "colab": {
          "base_uri": "https://localhost:8080/"
        },
        "id": "94BPRBaaH4C1",
        "outputId": "6cea7083-eefd-4a58-f119-6fcca18e0661"
      },
      "source": [
        "from google.colab import drive\r\n",
        "drive.mount('/content/drive')"
      ],
      "execution_count": null,
      "outputs": [
        {
          "output_type": "stream",
          "text": [
            "Mounted at /content/drive\n"
          ],
          "name": "stdout"
        }
      ]
    },
    {
      "cell_type": "code",
      "metadata": {
        "id": "gCkwuxrVIyRp"
      },
      "source": [
        "from __future__ import print_function, division\r\n",
        "\r\n",
        "import torch\r\n",
        "from PIL import Image\r\n",
        "import torch.nn as nn\r\n",
        "import torch.optim as optim\r\n",
        "from torch.optim import lr_scheduler\r\n",
        "from torch.autograd import Variable\r\n",
        "import numpy as np\r\n",
        "import torchvision\r\n",
        "from torchvision import datasets, models, transforms\r\n",
        "import matplotlib.pyplot as plt\r\n",
        "import time\r\n",
        "import os\r\n",
        "import copy"
      ],
      "execution_count": null,
      "outputs": []
    },
    {
      "cell_type": "code",
      "metadata": {
        "colab": {
          "base_uri": "https://localhost:8080/"
        },
        "id": "IL1cDswUJRfs",
        "outputId": "79f06441-de35-4c5b-eced-c685a93490fe"
      },
      "source": [
        "device = torch.device(\"cuda:0\" if torch.cuda.is_available() else \"cpu\")\r\n",
        "device"
      ],
      "execution_count": null,
      "outputs": [
        {
          "output_type": "execute_result",
          "data": {
            "text/plain": [
              "device(type='cpu')"
            ]
          },
          "metadata": {
            "tags": []
          },
          "execution_count": 3
        }
      ]
    },
    {
      "cell_type": "code",
      "metadata": {
        "colab": {
          "base_uri": "https://localhost:8080/"
        },
        "id": "ciF8xtGVJUuC",
        "outputId": "8c944c6f-bc80-4b30-c586-02ae8bd78646"
      },
      "source": [
        "data_transforms = {\r\n",
        "    'train': transforms.Compose([\r\n",
        "        # Data augmentation is a good practice for the train set\r\n",
        "        # Here, we randomly crop the image to 224x224 and\r\n",
        "        # randomly flip it horizontally. \r\n",
        "        transforms.RandomResizedCrop(224),\r\n",
        "        transforms.RandomHorizontalFlip(),\r\n",
        "        transforms.RandomApply([transforms.ColorJitter(brightness=0.32)], p=0.4),\r\n",
        "        transforms.ToTensor(),\r\n",
        "    ]),\r\n",
        "    'val': transforms.Compose([\r\n",
        "        transforms.Resize(256),\r\n",
        "        transforms.CenterCrop(224),\r\n",
        "        transforms.ToTensor(),\r\n",
        "    ]),\r\n",
        "    'test': transforms.Compose([\r\n",
        "        transforms.Resize(256),\r\n",
        "        transforms.CenterCrop(224),\r\n",
        "        transforms.ToTensor(),\r\n",
        "    ])\r\n",
        "}\r\n",
        "\r\n",
        "data_dir = '/content/drive/My Drive/Final Project/chest_xray/chest_xray'\r\n",
        "image_datasets = {\r\n",
        "    x: datasets.ImageFolder(\r\n",
        "        os.path.join(data_dir, x), \r\n",
        "        transform=data_transforms[x]\r\n",
        "    )\r\n",
        "    for x in ['train', 'val', 'test']\r\n",
        "}\r\n",
        "\r\n",
        "dataloaders = {\r\n",
        "    x: torch.utils.data.DataLoader(\r\n",
        "        image_datasets[x], batch_size=8,\r\n",
        "        shuffle=True, num_workers=4\r\n",
        "    )\r\n",
        "    for x in ['train', 'val', 'test']\r\n",
        "}\r\n",
        "\r\n",
        "dataset_sizes = {x: len(image_datasets[x]) for x in ['train', 'val', 'test']}\r\n",
        "\r\n",
        "for x in ['train', 'val', 'test']:\r\n",
        "    print(\"Loaded {} images under {}\".format(dataset_sizes[x], x))\r\n",
        "    \r\n",
        "print(\"Classes: \")\r\n",
        "class_names = image_datasets['train'].classes\r\n",
        "print(image_datasets['train'].classes)"
      ],
      "execution_count": null,
      "outputs": [
        {
          "output_type": "stream",
          "text": [
            "Loaded 5223 images under train\n",
            "Loaded 16 images under val\n",
            "Loaded 624 images under test\n",
            "Classes: \n",
            "['NORMAL', 'PNEUMONIA']\n"
          ],
          "name": "stdout"
        }
      ]
    },
    {
      "cell_type": "code",
      "metadata": {
        "colab": {
          "base_uri": "https://localhost:8080/",
          "height": 124
        },
        "id": "okVS9FpgJcwY",
        "outputId": "419a2292-7070-4d3b-9170-24477b6c3df9"
      },
      "source": [
        "def imshow(inp, title=None):\r\n",
        "    inp = inp.numpy().transpose((1, 2, 0))\r\n",
        "    plt.figure(figsize=(11, 11))\r\n",
        "    plt.axis('off')\r\n",
        "    plt.imshow(inp)\r\n",
        "    if title is not None:\r\n",
        "        plt.title(title)\r\n",
        "    plt.pause(0.001)\r\n",
        "\r\n",
        "def show_databatch(inputs, classes):\r\n",
        "    out = torchvision.utils.make_grid(inputs)\r\n",
        "    imshow(out, title=[class_names[x] for x in classes])\r\n",
        "\r\n",
        "# Get a batch of training data\r\n",
        "inputs, classes = next(iter(dataloaders['train']))\r\n",
        "show_databatch(inputs, classes)"
      ],
      "execution_count": null,
      "outputs": [
        {
          "output_type": "display_data",
          "data": {
            "image/png": "[encoded data removed]",
            "text/plain": [
              "<Figure size 792x792 with 1 Axes>"
            ]
          },
          "metadata": {
            "tags": [],
            "needs_background": "light"
          }
        }
      ]
    },
    {
      "cell_type": "code",
      "metadata": {
        "id": "gSTScQxIJf0A"
      },
      "source": [
        "def train_model(model, criterion, optimizer, scheduler, num_epochs=3):\r\n",
        "    last_end = time.time()\r\n",
        "    for epoch in range(num_epochs):\r\n",
        "        print('Epoch {}/{}'.format(epoch+1, num_epochs))\r\n",
        "        print('-' * 10)\r\n",
        "\r\n",
        "        for phase in ['train', 'val']:\r\n",
        "            if phase == 'train':\r\n",
        "                model.train()\r\n",
        "            else:\r\n",
        "                model.eval()\r\n",
        "\r\n",
        "            running_loss = 0.0\r\n",
        "            running_corrects = 0\r\n",
        "\r\n",
        "            for inputs, labels in dataloaders[phase]:\r\n",
        "                inputs = inputs.to(device)\r\n",
        "                labels = labels.to(device)\r\n",
        "\r\n",
        "                outputs = model(inputs)\r\n",
        "                loss = criterion(outputs, labels)\r\n",
        "\r\n",
        "                if phase == 'train':\r\n",
        "                    optimizer.zero_grad()\r\n",
        "                    loss.backward()\r\n",
        "                    optimizer.step()\r\n",
        "\r\n",
        "                _, preds = torch.max(outputs, 1)\r\n",
        "                running_loss += loss.item() * inputs.size(0)\r\n",
        "                running_corrects += torch.sum(preds == labels.data)\r\n",
        "\r\n",
        "            epoch_loss = running_loss / len(image_datasets[phase])\r\n",
        "            epoch_acc = running_corrects.double() / len(image_datasets[phase])\r\n",
        "            epoch_time = time.time() - last_end\r\n",
        "            last_end = time.time()\r\n",
        "            print('{} loss: {:.4f}, acc: {:.4f}'.format(phase,\r\n",
        "                                                        epoch_loss,\r\n",
        "                                                        epoch_acc))\r\n",
        "            print('Epoch Time {epoch_time:.3f}'.format(epoch_time=epoch_time))\r\n",
        "            if phase == 'train':\r\n",
        "                scheduler.step(epoch_loss)\r\n",
        "            else:\r\n",
        "                print('-' * 10)\r\n",
        "    return model"
      ],
      "execution_count": null,
      "outputs": []
    },
    {
      "cell_type": "code",
      "metadata": {
        "colab": {
          "base_uri": "https://localhost:8080/",
          "height": 84,
          "referenced_widgets": [
            "b9eefba97bbb4bbfb43daf03dd441645",
            "e36770c99db2497189a5e1346c7f5bca",
            "edee9d21df4a4f05aee6c3b83fe1c142",
            "31db0fe5d71d4100b190a001325e6a1d",
            "bfe55bc9e5ed422d972b0918f0c9491e",
            "79b73a41f64f4f3a936e7ee054b4d99b",
            "ae6472d2a9db4dd7b24fd497f09958d2",
            "48fe8993f3544a18aadf17f3bb035ef5"
          ]
        },
        "id": "Hu737L8mJmm_",
        "outputId": "7b97da65-5366-4054-8996-78109db7aae3"
      },
      "source": [
        "# Load the pretrained model from pytorch\r\n",
        "model = models.resnet50(pretrained=True).to(device)\r\n",
        "\r\n",
        "# print(model)\r\n",
        "# Freeze training for all layers\r\n",
        "for param in model.parameters():\r\n",
        "    param.requires_grad = False\r\n",
        "\r\n",
        "# Newly created modules have require_grad=True by default\r\n",
        "# Dropout(p=0.5) is also a good new layer\r\n",
        "model.fc = nn.Sequential(\r\n",
        "               nn.Linear(2048, 2)).to(device)"
      ],
      "execution_count": null,
      "outputs": [
        {
          "output_type": "stream",
          "text": [
            "Downloading: \"https://download.pytorch.org/models/resnet50-19c8e357.pth\" to /root/.cache/torch/hub/checkpoints/resnet50-19c8e357.pth\n"
          ],
          "name": "stderr"
        },
        {
          "output_type": "display_data",
          "data": {
            "application/vnd.jupyter.widget-view+json": {
              "model_id": "b9eefba97bbb4bbfb43daf03dd441645",
              "version_minor": 0,
              "version_major": 2
            },
            "text/plain": [
              "HBox(children=(FloatProgress(value=0.0, max=102502400.0), HTML(value='')))"
            ]
          },
          "metadata": {
            "tags": []
          }
        },
        {
          "output_type": "stream",
          "text": [
            "\n"
          ],
          "name": "stdout"
        }
      ]
    },
    {
      "cell_type": "code",
      "metadata": {
        "id": "Sps8NLvOJpDQ"
      },
      "source": [
        "criterion = nn.CrossEntropyLoss()\r\n",
        "# Optimzer\r\n",
        "optimizer = optim.Adadelta(model.fc.parameters(), lr=0.001)\r\n",
        "# LR scheduler\r\n",
        "lr_scheduler = optim.lr_scheduler.ReduceLROnPlateau(optimizer,\r\n",
        "                                                    patience=4,\r\n",
        "                                                    cooldown=0,\r\n",
        "                                                    verbose=True)"
      ],
      "execution_count": null,
      "outputs": []
    },
    {
      "cell_type": "code",
      "metadata": {
        "colab": {
          "base_uri": "https://localhost:8080/"
        },
        "id": "IuBcxtN5JshS",
        "outputId": "7d7db053-b2c9-447c-862b-ec8c0fc7d707"
      },
      "source": [
        "model = train_model(model, criterion, optimizer, lr_scheduler, num_epochs=8)"
      ],
      "execution_count": null,
      "outputs": [
        {
          "output_type": "stream",
          "text": [
            "Epoch 1/8\n",
            "----------\n",
            "train loss: 0.5883, acc: 0.7383\n",
            "Epoch Time 1320.311\n",
            "val loss: 0.8701, acc: 0.5000\n",
            "Epoch Time 7.371\n",
            "----------\n",
            "Epoch 2/8\n",
            "----------\n",
            "train loss: 0.5561, acc: 0.7433\n",
            "Epoch Time 1313.447\n",
            "val loss: 0.8338, acc: 0.5000\n",
            "Epoch Time 3.409\n",
            "----------\n",
            "Epoch 3/8\n",
            "----------\n",
            "train loss: 0.5382, acc: 0.7434\n",
            "Epoch Time 1318.797\n",
            "val loss: 0.7782, acc: 0.5000\n",
            "Epoch Time 3.462\n",
            "----------\n",
            "Epoch 4/8\n",
            "----------\n",
            "train loss: 0.5176, acc: 0.7440\n",
            "Epoch Time 1321.455\n",
            "val loss: 0.7615, acc: 0.5000\n",
            "Epoch Time 3.561\n",
            "----------\n",
            "Epoch 5/8\n",
            "----------\n",
            "train loss: 0.5025, acc: 0.7463\n",
            "Epoch Time 1322.702\n",
            "val loss: 0.7545, acc: 0.5000\n",
            "Epoch Time 3.484\n",
            "----------\n",
            "Epoch 6/8\n",
            "----------\n",
            "train loss: 0.4899, acc: 0.7498\n",
            "Epoch Time 1320.927\n",
            "val loss: 0.7217, acc: 0.5625\n",
            "Epoch Time 3.573\n",
            "----------\n",
            "Epoch 7/8\n",
            "----------\n",
            "train loss: 0.4717, acc: 0.7572\n",
            "Epoch Time 1333.086\n",
            "val loss: 0.7236, acc: 0.5625\n",
            "Epoch Time 3.663\n",
            "----------\n",
            "Epoch 8/8\n",
            "----------\n",
            "train loss: 0.4604, acc: 0.7699\n",
            "Epoch Time 1369.691\n",
            "val loss: 0.7019, acc: 0.5625\n",
            "Epoch Time 3.860\n",
            "----------\n"
          ],
          "name": "stdout"
        }
      ]
    },
    {
      "cell_type": "code",
      "metadata": {
        "id": "UtV9YAkhJvMA"
      },
      "source": [
        "def test_model(model, criterion):\r\n",
        "    last_end = time.time()\r\n",
        "    print('-' * 10)\r\n",
        "    model.eval()\r\n",
        "    running_loss = 0.0\r\n",
        "    running_corrects = 0\r\n",
        "\r\n",
        "    for inputs, labels in dataloaders['test']:\r\n",
        "        inputs = inputs.to(device)\r\n",
        "        labels = labels.to(device)\r\n",
        "\r\n",
        "        outputs = model(inputs)\r\n",
        "        loss = criterion(outputs, labels)\r\n",
        "\r\n",
        "        _, preds = torch.max(outputs, 1)\r\n",
        "        running_loss += loss.item() * inputs.size(0)\r\n",
        "        running_corrects += torch.sum(preds == labels.data)\r\n",
        "\r\n",
        "    epoch_loss = running_loss / len(image_datasets['test'])\r\n",
        "    epoch_acc = running_corrects.double() / len(image_datasets['test'])\r\n",
        "    epoch_time = time.time() - last_end\r\n",
        "    last_end = time.time()\r\n",
        "    print('Test loss: {:.4f}, acc: {:.4f}'.format(epoch_loss,\r\n",
        "                                                  epoch_acc))\r\n",
        "    print('Test Time {epoch_time:.3f}'.format(epoch_time=epoch_time))\r\n",
        "    print('-' * 10)"
      ],
      "execution_count": null,
      "outputs": []
    },
    {
      "cell_type": "code",
      "metadata": {
        "id": "jF7Dc48wJy2J",
        "colab": {
          "base_uri": "https://localhost:8080/"
        },
        "outputId": "705f124e-d409-4f6c-b7d1-417fb24e6813"
      },
      "source": [
        "test_model(model, criterion)"
      ],
      "execution_count": null,
      "outputs": [
        {
          "output_type": "stream",
          "text": [
            "----------\n",
            "Test loss: 0.5437, acc: 0.6635\n",
            "Test Time 136.600\n",
            "----------\n"
          ],
          "name": "stdout"
        }
      ]
    },
    {
      "cell_type": "code",
      "metadata": {
        "id": "L_Kyde8tXV-F"
      },
      "source": [
        ""
      ],
      "execution_count": null,
      "outputs": []
    }
  ]
}